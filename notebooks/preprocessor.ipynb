{
 "cells": [
  {
   "cell_type": "code",
   "execution_count": 1,
   "metadata": {},
   "outputs": [],
   "source": [
    "from sklearn.model_selection import train_test_split, cross_validate\n",
    "from sklearn.ensemble import GradientBoostingRegressor\n",
    "from sklearn.pipeline import make_pipeline, Pipeline\n",
    "from sklearn.compose import ColumnTransformer\n",
    "from sklearn.feature_selection import SelectPercentile, mutual_info_regression\n",
    "from sklearn.pipeline import make_pipeline\n",
    "from sklearn.preprocessing import OrdinalEncoder, MinMaxScaler, OneHotEncoder, LabelEncoder, StandardScaler\n",
    "from sklearn.impute import SimpleImputer, KNNImputer\n",
    "\n",
    "import pickle\n",
    "import pandas as pd\n",
    "import numpy as np\n",
    "import seaborn as sns\n",
    "# VIEWING OPTIONS IN THE NOTEBOOK\n",
    "from sklearn import set_config; set_config(display='diagram')"
   ]
  },
  {
   "cell_type": "code",
   "execution_count": 3,
   "metadata": {},
   "outputs": [],
   "source": [
    "numerical_features = ['date', 'onpromotion', 'oil_price', 'oil_price_interpolated']\n",
    "\n",
    "#categorical_features = ['type', 'locale', 'locale_name']\n",
    "\n",
    "ordinal_features = ['type', 'locale', 'locale_name']\n",
    "\n",
    "target = 'sales'"
   ]
  },
  {
   "cell_type": "code",
   "execution_count": null,
   "metadata": {},
   "outputs": [],
   "source": [
    "def encode(frame, feature):\n",
    "    '''\n",
    "    function that custom encode a categorical feature ordered by the most impactful \n",
    "    sub-category on the target\n",
    "    '''\n",
    "    # create a temporary dataframe  \n",
    "    ordering = pd.DataFrame()\n",
    "    # create an index with the unique values of the selected feature\n",
    "    ordering['val'] = frame[feature].unique()\n",
    "    ordering.index = ordering.val\n",
    "    # create a spmean column with the mean value of the target \n",
    "    # for each category of the selected feature, sorted by value\n",
    "    ordering['spmean'] = frame[[feature, target]]\\\n",
    "                         .groupby(feature).mean()[target]\n",
    "    ordering = ordering.sort_values('spmean')\n",
    "    # create a column ordering with the number from 1 to the number of\n",
    "    # categories for the selected feature\n",
    "    ordering['ordering'] = range(1, ordering.shape[0]+1)\n",
    "    # extracting index and that column to a dictionary\n",
    "    ordering = ordering['ordering'].to_dict()\n",
    "    return ordering.keys()"
   ]
  },
  {
   "cell_type": "code",
   "execution_count": null,
   "metadata": {},
   "outputs": [],
   "source": [
    "df = pd.read_pickle(f'../models/data_cleaning.pickle')\n",
    "\n",
    "feat_ordinal_dict = {}\n",
    "for feature in ordinal_features:\n",
    "    feat_ordinal_dict[feature] = list(encode(df,feature))\n",
    "\n",
    "numerical_transformer =  MinMaxScaler()\n",
    "categorical_transformer = OneHotEncoder(handle_unknown='ignore')\n",
    "    \n",
    "feat_ordinal = sorted(feat_ordinal_dict.keys())\n",
    "feat_ordinal_values_sorted = [feat_ordinal_dict[i] for i in feat_ordinal]  \n",
    "    \n",
    "ordinal_transformer = OrdinalEncoder(\n",
    "    categories=feat_ordinal_values_sorted,\n",
    ")\n",
    "\n",
    "transformer = ColumnTransformer([\n",
    "    ('num_tr', numerical_transformer, numerical_features),\n",
    "    ('cat_tr', categorical_transformer, categorical_features),\n",
    "    ('ord_tr', ordinal_transformer, ordinal_features)\n",
    "\n",
    "])\n",
    "transformer.fit(df)\n",
    "transformed_df = transformer.transform(df)\n",
    "\n",
    "X, y = transformed_df, df[target]\n",
    "\n"
   ]
  },
  {
   "cell_type": "code",
   "execution_count": null,
   "metadata": {},
   "outputs": [],
   "source": []
  }
 ],
 "metadata": {
  "kernelspec": {
   "display_name": "lewagon",
   "language": "python",
   "name": "python3"
  },
  "language_info": {
   "codemirror_mode": {
    "name": "ipython",
    "version": 3
   },
   "file_extension": ".py",
   "mimetype": "text/x-python",
   "name": "python",
   "nbconvert_exporter": "python",
   "pygments_lexer": "ipython3",
   "version": "3.10.6"
  },
  "orig_nbformat": 4
 },
 "nbformat": 4,
 "nbformat_minor": 2
}
